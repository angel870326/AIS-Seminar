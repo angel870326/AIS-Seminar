{
  "nbformat": 4,
  "nbformat_minor": 0,
  "metadata": {
    "colab": {
      "name": "Assignment 2.ipynb",
      "provenance": [],
      "collapsed_sections": [],
      "authorship_tag": "ABX9TyOlw/t7Wre+dTq5DJc5XPtn",
      "include_colab_link": true
    },
    "kernelspec": {
      "name": "python3",
      "display_name": "Python 3"
    },
    "language_info": {
      "name": "python"
    }
  },
  "cells": [
    {
      "cell_type": "markdown",
      "metadata": {
        "id": "view-in-github",
        "colab_type": "text"
      },
      "source": [
        "<a href=\"https://colab.research.google.com/github/angel870326/AIS-Seminar/blob/main/Assignment_2.ipynb\" target=\"_parent\"><img src=\"https://colab.research.google.com/assets/colab-badge.svg\" alt=\"Open In Colab\"/></a>"
      ]
    },
    {
      "cell_type": "markdown",
      "source": [
        "> 2022.04.08 Ssu-Yun Wang<br/>\n",
        "AIS Seminar Assignmet 2\n",
        "\n",
        "\n",
        "# **Check the Validity of Passwords**\n",
        "\n",
        "###**Criteria:**\n",
        "*   At least one number\n",
        "*   At least one lowercase character\n",
        "*   At least one uppercase character\n",
        "*   At least 10 characters in length, but no more than 24\n"
      ],
      "metadata": {
        "id": "M_SD9qENWK0O"
      }
    },
    {
      "cell_type": "code",
      "source": [
        "import re"
      ],
      "metadata": {
        "id": "gcvQaXllaxXJ"
      },
      "execution_count": 1,
      "outputs": []
    },
    {
      "cell_type": "code",
      "execution_count": 2,
      "metadata": {
        "colab": {
          "base_uri": "https://localhost:8080/"
        },
        "id": "WDr-1GObZ9ai",
        "outputId": "9913fc45-bd38-41c1-8f71-af70e05146ff"
      },
      "outputs": [
        {
          "output_type": "stream",
          "name": "stdout",
          "text": [
            "['123ABCabcd']\n",
            "['123ABCabc#']\n",
            "[]\n",
            "[]\n",
            "[]\n",
            "[]\n",
            "[]\n",
            "[]\n"
          ]
        }
      ],
      "source": [
        "test1 = \"123ABCabcd\" # correct\n",
        "test2 = \"123ABCabc#\" # correct\n",
        "test3 = \"123456abc#\" # no uppercase\n",
        "test4 = \"123ABC123#\" # no lowercase\n",
        "test5 = \"abcABCabc#\" # no number\n",
        "test6 = \"0123456789#\" # no letter\n",
        "test7 = \"123ABCabc\" # only 9 characters\n",
        "test8 = \"12345678ABCDEFGHabcdefgh#\" # 25 characters\n",
        "\n",
        "def pwdValidity(password):\n",
        "  return re.findall(r'^(?=.*\\d)(?=.*[a-z])(?=.*[A-Z]).{10,24}$', password)\n",
        "\n",
        "x1 = pwdValidity(test1)\n",
        "x2 = pwdValidity(test2)\n",
        "x3 = pwdValidity(test3)\n",
        "x4 = pwdValidity(test4)\n",
        "x5 = pwdValidity(test5)\n",
        "x6 = pwdValidity(test6)\n",
        "x7 = pwdValidity(test7)\n",
        "x8 = pwdValidity(test8)\n",
        "\n",
        "print(x1)\n",
        "print(x2)\n",
        "print(x3)\n",
        "print(x4)\n",
        "print(x5)\n",
        "print(x6)\n",
        "print(x7)\n",
        "print(x8)"
      ]
    }
  ]
}
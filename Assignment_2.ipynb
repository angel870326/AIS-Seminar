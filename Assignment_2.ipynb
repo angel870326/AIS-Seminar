{
  "nbformat": 4,
  "nbformat_minor": 0,
  "metadata": {
    "colab": {
      "name": "Assignment 2.ipynb",
      "provenance": [],
      "collapsed_sections": [],
      "authorship_tag": "ABX9TyNJkzcLbWi29hEYaKOsHeE4",
      "include_colab_link": true
    },
    "kernelspec": {
      "name": "python3",
      "display_name": "Python 3"
    },
    "language_info": {
      "name": "python"
    }
  },
  "cells": [
    {
      "cell_type": "markdown",
      "metadata": {
        "id": "view-in-github",
        "colab_type": "text"
      },
      "source": [
        "<a href=\"https://colab.research.google.com/github/angel870326/AIS-Seminar/blob/main/Assignment_2.ipynb\" target=\"_parent\"><img src=\"https://colab.research.google.com/assets/colab-badge.svg\" alt=\"Open In Colab\"/></a>"
      ]
    },
    {
      "cell_type": "markdown",
      "source": [
        "> 2022.04.08 Ssu-Yun Wang<br/>\n",
        "AIS Assignmet 2\n",
        "\n",
        "\n",
        "# **Check the Validity of Passwords**\n",
        "\n",
        "###**Criteria:**\n",
        "*   At least one number\n",
        "*   At least one lowercase character\n",
        "*   At least one uppercase character\n",
        "*   At least 10 characters in length, but no more than 24\n"
      ],
      "metadata": {
        "id": "M_SD9qENWK0O"
      }
    },
    {
      "cell_type": "code",
      "source": [
        "import re"
      ],
      "metadata": {
        "id": "gcvQaXllaxXJ"
      },
      "execution_count": 12,
      "outputs": []
    },
    {
      "cell_type": "code",
      "execution_count": 13,
      "metadata": {
        "colab": {
          "base_uri": "https://localhost:8080/"
        },
        "id": "WDr-1GObZ9ai",
        "outputId": "aadf9f55-aaa1-4e5e-e2ce-c6ca6f63fbb2"
      },
      "outputs": [
        {
          "output_type": "stream",
          "name": "stdout",
          "text": [
            "['123ABCabcd']\n",
            "['123ABCabc#']\n",
            "[]\n",
            "[]\n",
            "[]\n",
            "[]\n",
            "[]\n",
            "[]\n"
          ]
        }
      ],
      "source": [
        "test1 = \"123ABCabcd\" # correct\n",
        "test2 = \"123ABCabc#\" # correct\n",
        "test3 = \"123456abc#\" # no uppercase\n",
        "test4 = \"123ABC123#\" # no lowercase\n",
        "test5 = \"abcABCabc#\" # no number\n",
        "test6 = \"0123456789#\" # no letter\n",
        "test7 = \"123ABCabc\" # only 9 characters\n",
        "test8 = \"12345678ABCDEFGHabcdefgh#\" # 25 characters\n",
        "\n",
        "x1 = re.findall(r'^(?=.*\\d)(?=.*[a-z])(?=.*[A-Z]).{10,24}$', test1)\n",
        "x2 = re.findall(r'^(?=.*\\d)(?=.*[a-z])(?=.*[A-Z]).{10,24}$', test2)\n",
        "x3 = re.findall(r'^(?=.*\\d)(?=.*[a-z])(?=.*[A-Z]).{10,24}$', test3)\n",
        "x4 = re.findall(r'^(?=.*\\d)(?=.*[a-z])(?=.*[A-Z]).{10,24}$', test4)\n",
        "x5 = re.findall(r'^(?=.*\\d)(?=.*[a-z])(?=.*[A-Z]).{10,24}$', test5)\n",
        "x6 = re.findall(r'^(?=.*\\d)(?=.*[a-z])(?=.*[A-Z]).{10,24}$', test6)\n",
        "x7 = re.findall(r'^(?=.*\\d)(?=.*[a-z])(?=.*[A-Z]).{10,24}$', test7)\n",
        "x8 = re.findall(r'^(?=.*\\d)(?=.*[a-z])(?=.*[A-Z]).{10,24}$', test8)\n",
        "\n",
        "print(x1)\n",
        "print(x2)\n",
        "print(x3)\n",
        "print(x4)\n",
        "print(x5)\n",
        "print(x6)\n",
        "print(x7)\n",
        "print(x8)\n"
      ]
    }
  ]
}